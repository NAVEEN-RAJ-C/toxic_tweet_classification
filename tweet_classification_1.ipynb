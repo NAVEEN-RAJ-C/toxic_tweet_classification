{
 "cells": [
  {
   "cell_type": "code",
   "execution_count": 1,
   "id": "a84d1cc0",
   "metadata": {
    "id": "a84d1cc0"
   },
   "outputs": [],
   "source": [
    "import pandas as pd\n",
    "import spacy\n",
    "import re\n",
    "from sklearn.feature_extraction.text import CountVectorizer, TfidfVectorizer\n",
    "from sklearn.model_selection import train_test_split\n",
    "from sklearn.tree import DecisionTreeClassifier\n",
    "from sklearn.ensemble import RandomForestClassifier\n",
    "from sklearn.naive_bayes import MultinomialNB\n",
    "from sklearn.neighbors import KNeighborsClassifier\n",
    "from sklearn.svm import SVC\n",
    "from sklearn.metrics import classification_report, confusion_matrix, roc_auc_score, roc_curve\n",
    "import matplotlib.pyplot as plt"
   ]
  },
  {
   "cell_type": "code",
   "execution_count": 2,
   "id": "1e942c8e",
   "metadata": {
    "id": "1e942c8e"
   },
   "outputs": [],
   "source": [
    "# loading English core and declaring tokenizer\n",
    "nlp = spacy.load('en_core_web_sm')\n",
    "tokenizer = nlp.tokenizer"
   ]
  },
  {
   "cell_type": "code",
   "execution_count": 3,
   "id": "972dcad8",
   "metadata": {
    "id": "972dcad8"
   },
   "outputs": [],
   "source": [
    "# stopword removing\n",
    "def remove_stopwords(doc):\n",
    "    tokens = [token.text for token in doc if not token.is_stop]\n",
    "    return ' '.join(tokens)"
   ]
  },
  {
   "cell_type": "code",
   "execution_count": 4,
   "id": "63e72dd2",
   "metadata": {
    "id": "63e72dd2"
   },
   "outputs": [],
   "source": [
    "#ROC-AUC\n",
    "def roc_auc(y_t, y_pred):\n",
    "    auc = roc_auc_score(y_t, y_pred)\n",
    "    fpr, tpr, threshold = roc_curve(y_t, y_pred)\n",
    "    return auc, fpr, tpr"
   ]
  },
  {
   "cell_type": "code",
   "execution_count": 22,
   "id": "24bfa175",
   "metadata": {
    "id": "24bfa175"
   },
   "outputs": [],
   "source": [
    "def ml_models(X_trn, X_tst, y_trn, y_tst):\n",
    "    # decision tree\n",
    "    dt_classifier = DecisionTreeClassifier()\n",
    "    dt_classifier.fit(X_trn, y_trn)\n",
    "    dt_predictions = dt_classifier.predict(X_tst)\n",
    "    dt_report = classification_report(y_tst, dt_predictions)\n",
    "    dt_confusion_matrix = confusion_matrix(y_tst, dt_predictions)\n",
    "    print('DECISION TREE')\n",
    "    print('Classification Report:')\n",
    "    print(dt_report)\n",
    "    print('Confusion Matrix:')\n",
    "    print(dt_confusion_matrix)\n",
    "    print('\\n')\n",
    "\n",
    "    # random forest\n",
    "    rf_classifier = RandomForestClassifier(n_estimators = 10)\n",
    "    rf_classifier.fit(X_trn, y_trn)\n",
    "    rf_predictions = rf_classifier.predict(X_tst)\n",
    "    rf_report = classification_report(y_tst, rf_predictions)\n",
    "    rf_confusion_matrix = confusion_matrix(y_tst, rf_predictions)\n",
    "    print('RANDOM FOREST')\n",
    "    print('Classification Report:')\n",
    "    print(rf_report)\n",
    "    print('Confusion Matrix:')\n",
    "    print(rf_confusion_matrix)\n",
    "    print('\\n')\n",
    "\n",
    "    # naive bayes\n",
    "    nb_classifier = MultinomialNB()\n",
    "    nb_classifier.fit(X_trn, y_trn)\n",
    "    nb_predictions = nb_classifier.predict(X_tst)\n",
    "    nb_report = classification_report(y_tst, nb_predictions)\n",
    "    nb_confusion_matrix = confusion_matrix(y_tst, nb_predictions)\n",
    "    print('NAIVE BAYES')\n",
    "    print('Classification Report:')\n",
    "    print(nb_report)\n",
    "    print('Confusion Matrix:')\n",
    "    print(nb_confusion_matrix)\n",
    "    print('\\n')\n",
    "\n",
    "    # KNN\n",
    "    knn_classifier = KNeighborsClassifier()\n",
    "    knn_classifier.fit(X_trn, y_trn)\n",
    "    knn_predictions = knn_classifier.predict(X_tst)\n",
    "    knn_report = classification_report(y_tst, knn_predictions)\n",
    "    knn_confusion_matrix = confusion_matrix(y_tst, knn_predictions)\n",
    "    print('KNN')\n",
    "    print('Classification Report:')\n",
    "    print(knn_report)\n",
    "    print('Confusion Matrix:')\n",
    "    print(knn_confusion_matrix)\n",
    "    print('\\n')\n",
    "\n",
    "    # SVM\n",
    "    svm_classifier = SVC()\n",
    "    svm_classifier.fit(X_trn, y_trn)\n",
    "    svm_predictions = svm_classifier.predict(X_tst)\n",
    "    svm_report = classification_report(y_tst, svm_predictions)\n",
    "    svm_confusion_matrix = confusion_matrix(y_tst, svm_predictions)\n",
    "    print('SVM')\n",
    "    print('Classification Report:')\n",
    "    print(svm_report)\n",
    "    print('Confusion Matrix:')\n",
    "    print(svm_confusion_matrix)\n",
    "    print('\\n')\n",
    "\n",
    "    knn_auc, Knn_fpr, knn_tpr = roc_auc(y_tst, knn_predictions)\n",
    "    nb_auc, nb_fpr, nb_tpr = roc_auc(y_tst, nb_predictions)\n",
    "    rf_auc, rf_fpr, rf_tpr = roc_auc(y_tst, rf_predictions)\n",
    "    dt_auc, dt_fpr, dt_tpr = roc_auc(y_tst, dt_predictions)\n",
    "    svm_auc, svm_fpr, svm_tpr = roc_auc(y_tst, svm_predictions)\n",
    "\n",
    "    plt.plot(Knn_fpr, knn_tpr, label=f'KNN_AUC = {knn_auc:.2f}')\n",
    "    plt.plot(nb_fpr, nb_tpr, label=f'Naive_Bayes_AUC = {nb_auc:.2f}')\n",
    "    plt.plot(rf_fpr, rf_tpr, label=f'Random_Forest_AUC = {rf_auc:.2f}')\n",
    "    plt.plot(dt_fpr, dt_tpr, label=f'Decision_Trees_AUC = {dt_auc:.2f}')\n",
    "    plt.plot(svm_fpr, svm_tpr, label=f'SVM_AUC = {svm_auc:.2f}')\n",
    "    plt.plot([0, 1], [0, 1], 'k--')\n",
    "    plt.xlim([0.0, 1.0])\n",
    "    plt.ylim([0.0, 1.05])\n",
    "    plt.xlabel('False Positive Rate')\n",
    "    plt.ylabel('True Positive Rate')\n",
    "    plt.title('Receiver Operating Characteristic')\n",
    "    plt.legend(loc=\"lower right\")\n",
    "    plt.show()\n",
    "    print('\\n')"
   ]
  },
  {
   "cell_type": "code",
   "execution_count": 6,
   "id": "013c78e3",
   "metadata": {
    "colab": {
     "base_uri": "https://localhost:8080/",
     "height": 424
    },
    "id": "013c78e3",
    "outputId": "5705b3d3-fbbd-48f9-d146-d9891768d45c",
    "scrolled": true
   },
   "outputs": [
    {
     "data": {
      "text/html": [
       "<div>\n",
       "<style scoped>\n",
       "    .dataframe tbody tr th:only-of-type {\n",
       "        vertical-align: middle;\n",
       "    }\n",
       "\n",
       "    .dataframe tbody tr th {\n",
       "        vertical-align: top;\n",
       "    }\n",
       "\n",
       "    .dataframe thead th {\n",
       "        text-align: right;\n",
       "    }\n",
       "</style>\n",
       "<table border=\"1\" class=\"dataframe\">\n",
       "  <thead>\n",
       "    <tr style=\"text-align: right;\">\n",
       "      <th></th>\n",
       "      <th>Unnamed: 0</th>\n",
       "      <th>Toxicity</th>\n",
       "      <th>tweet</th>\n",
       "    </tr>\n",
       "  </thead>\n",
       "  <tbody>\n",
       "    <tr>\n",
       "      <th>0</th>\n",
       "      <td>0</td>\n",
       "      <td>0</td>\n",
       "      <td>@user when a father is dysfunctional and is s...</td>\n",
       "    </tr>\n",
       "    <tr>\n",
       "      <th>1</th>\n",
       "      <td>1</td>\n",
       "      <td>0</td>\n",
       "      <td>@user @user thanks for #lyft credit i can't us...</td>\n",
       "    </tr>\n",
       "    <tr>\n",
       "      <th>2</th>\n",
       "      <td>2</td>\n",
       "      <td>0</td>\n",
       "      <td>bihday your majesty</td>\n",
       "    </tr>\n",
       "    <tr>\n",
       "      <th>3</th>\n",
       "      <td>3</td>\n",
       "      <td>0</td>\n",
       "      <td>#model   i love u take with u all the time in ...</td>\n",
       "    </tr>\n",
       "    <tr>\n",
       "      <th>4</th>\n",
       "      <td>4</td>\n",
       "      <td>0</td>\n",
       "      <td>factsguide: society now    #motivation</td>\n",
       "    </tr>\n",
       "    <tr>\n",
       "      <th>...</th>\n",
       "      <td>...</td>\n",
       "      <td>...</td>\n",
       "      <td>...</td>\n",
       "    </tr>\n",
       "    <tr>\n",
       "      <th>56740</th>\n",
       "      <td>56740</td>\n",
       "      <td>1</td>\n",
       "      <td>you's a muthaf***in lie &amp;#8220;@LifeAsKing: @2...</td>\n",
       "    </tr>\n",
       "    <tr>\n",
       "      <th>56741</th>\n",
       "      <td>56741</td>\n",
       "      <td>1</td>\n",
       "      <td>you've gone and broke the wrong heart baby, an...</td>\n",
       "    </tr>\n",
       "    <tr>\n",
       "      <th>56742</th>\n",
       "      <td>56742</td>\n",
       "      <td>1</td>\n",
       "      <td>young buck wanna eat!!.. dat nigguh like I ain...</td>\n",
       "    </tr>\n",
       "    <tr>\n",
       "      <th>56743</th>\n",
       "      <td>56743</td>\n",
       "      <td>1</td>\n",
       "      <td>youu got wild bitches tellin you lies</td>\n",
       "    </tr>\n",
       "    <tr>\n",
       "      <th>56744</th>\n",
       "      <td>56744</td>\n",
       "      <td>0</td>\n",
       "      <td>~~Ruffled | Ntac Eileen Dahlia - Beautiful col...</td>\n",
       "    </tr>\n",
       "  </tbody>\n",
       "</table>\n",
       "<p>56745 rows × 3 columns</p>\n",
       "</div>"
      ],
      "text/plain": [
       "       Unnamed: 0  Toxicity                                              tweet\n",
       "0               0         0   @user when a father is dysfunctional and is s...\n",
       "1               1         0  @user @user thanks for #lyft credit i can't us...\n",
       "2               2         0                                bihday your majesty\n",
       "3               3         0  #model   i love u take with u all the time in ...\n",
       "4               4         0             factsguide: society now    #motivation\n",
       "...           ...       ...                                                ...\n",
       "56740       56740         1  you's a muthaf***in lie &#8220;@LifeAsKing: @2...\n",
       "56741       56741         1  you've gone and broke the wrong heart baby, an...\n",
       "56742       56742         1  young buck wanna eat!!.. dat nigguh like I ain...\n",
       "56743       56743         1              youu got wild bitches tellin you lies\n",
       "56744       56744         0  ~~Ruffled | Ntac Eileen Dahlia - Beautiful col...\n",
       "\n",
       "[56745 rows x 3 columns]"
      ]
     },
     "execution_count": 6,
     "metadata": {},
     "output_type": "execute_result"
    }
   ],
   "source": [
    "# loading tweet dataset\n",
    "tweets_df = pd.read_csv('FinalBalancedDataset.csv')\n",
    "tweets_df"
   ]
  },
  {
   "cell_type": "code",
   "execution_count": 7,
   "id": "97610fc9",
   "metadata": {},
   "outputs": [
    {
     "name": "stdout",
     "output_type": "stream",
     "text": [
      "Please specify the sample size: 1000\n"
     ]
    }
   ],
   "source": [
    "# getting sample size\n",
    "sample_size = int(input('Please specify the sample size: '))"
   ]
  },
  {
   "cell_type": "code",
   "execution_count": 8,
   "id": "5ed6f4e0",
   "metadata": {
    "colab": {
     "base_uri": "https://localhost:8080/",
     "height": 424
    },
    "id": "5ed6f4e0",
    "outputId": "29fb0e78-509f-46e2-9ea3-b51c5ab1549d"
   },
   "outputs": [
    {
     "data": {
      "text/html": [
       "<div>\n",
       "<style scoped>\n",
       "    .dataframe tbody tr th:only-of-type {\n",
       "        vertical-align: middle;\n",
       "    }\n",
       "\n",
       "    .dataframe tbody tr th {\n",
       "        vertical-align: top;\n",
       "    }\n",
       "\n",
       "    .dataframe thead th {\n",
       "        text-align: right;\n",
       "    }\n",
       "</style>\n",
       "<table border=\"1\" class=\"dataframe\">\n",
       "  <thead>\n",
       "    <tr style=\"text-align: right;\">\n",
       "      <th></th>\n",
       "      <th>Unnamed: 0</th>\n",
       "      <th>Toxicity</th>\n",
       "      <th>tweet</th>\n",
       "    </tr>\n",
       "  </thead>\n",
       "  <tbody>\n",
       "    <tr>\n",
       "      <th>44200</th>\n",
       "      <td>44200</td>\n",
       "      <td>1</td>\n",
       "      <td>Kim K is alright but honestly so many niggas b...</td>\n",
       "    </tr>\n",
       "    <tr>\n",
       "      <th>46339</th>\n",
       "      <td>46339</td>\n",
       "      <td>0</td>\n",
       "      <td>RT @BigJonBul: The stars wink knowingly and sm...</td>\n",
       "    </tr>\n",
       "    <tr>\n",
       "      <th>49169</th>\n",
       "      <td>49169</td>\n",
       "      <td>1</td>\n",
       "      <td>RT @Sassymermaidxo: &amp;#8220;@VSamone: &amp;#8220;@Z...</td>\n",
       "    </tr>\n",
       "    <tr>\n",
       "      <th>54130</th>\n",
       "      <td>54130</td>\n",
       "      <td>1</td>\n",
       "      <td>Those \"tell me about yourself \" lookin ass nig...</td>\n",
       "    </tr>\n",
       "    <tr>\n",
       "      <th>18801</th>\n",
       "      <td>18801</td>\n",
       "      <td>0</td>\n",
       "      <td>4 days ago ... to celebrate #national iced tea...</td>\n",
       "    </tr>\n",
       "    <tr>\n",
       "      <th>...</th>\n",
       "      <td>...</td>\n",
       "      <td>...</td>\n",
       "      <td>...</td>\n",
       "    </tr>\n",
       "    <tr>\n",
       "      <th>25512</th>\n",
       "      <td>25512</td>\n",
       "      <td>0</td>\n",
       "      <td>@user  @user @user @user i thought they eloped...</td>\n",
       "    </tr>\n",
       "    <tr>\n",
       "      <th>55565</th>\n",
       "      <td>55565</td>\n",
       "      <td>1</td>\n",
       "      <td>based god fucked all my bitches</td>\n",
       "    </tr>\n",
       "    <tr>\n",
       "      <th>34658</th>\n",
       "      <td>34658</td>\n",
       "      <td>1</td>\n",
       "      <td>@Brutal_Brandy We had a Pacer in the 70s &amp;amp;...</td>\n",
       "    </tr>\n",
       "    <tr>\n",
       "      <th>24851</th>\n",
       "      <td>24851</td>\n",
       "      <td>0</td>\n",
       "      <td>@user @user so now roseanne is walking back he...</td>\n",
       "    </tr>\n",
       "    <tr>\n",
       "      <th>30068</th>\n",
       "      <td>30068</td>\n",
       "      <td>0</td>\n",
       "      <td>#macbook   gorilla simulator: you need to do t...</td>\n",
       "    </tr>\n",
       "  </tbody>\n",
       "</table>\n",
       "<p>1000 rows × 3 columns</p>\n",
       "</div>"
      ],
      "text/plain": [
       "       Unnamed: 0  Toxicity                                              tweet\n",
       "44200       44200         1  Kim K is alright but honestly so many niggas b...\n",
       "46339       46339         0  RT @BigJonBul: The stars wink knowingly and sm...\n",
       "49169       49169         1  RT @Sassymermaidxo: &#8220;@VSamone: &#8220;@Z...\n",
       "54130       54130         1  Those \"tell me about yourself \" lookin ass nig...\n",
       "18801       18801         0  4 days ago ... to celebrate #national iced tea...\n",
       "...           ...       ...                                                ...\n",
       "25512       25512         0  @user  @user @user @user i thought they eloped...\n",
       "55565       55565         1                    based god fucked all my bitches\n",
       "34658       34658         1  @Brutal_Brandy We had a Pacer in the 70s &amp;...\n",
       "24851       24851         0  @user @user so now roseanne is walking back he...\n",
       "30068       30068         0  #macbook   gorilla simulator: you need to do t...\n",
       "\n",
       "[1000 rows x 3 columns]"
      ]
     },
     "execution_count": 8,
     "metadata": {},
     "output_type": "execute_result"
    }
   ],
   "source": [
    "# selecting the samples \n",
    "tweet_df = tweets_df.sample(n = sample_size,random_state= 42)\n",
    "tweet_df"
   ]
  },
  {
   "cell_type": "code",
   "execution_count": 9,
   "id": "dff6421b",
   "metadata": {
    "id": "dff6421b",
    "scrolled": true
   },
   "outputs": [],
   "source": [
    "# replace special character with a space\n",
    "tweet_df['tweet'] = tweet_df['tweet'].apply(lambda x: re.sub('[^A-Za-z0-9]+', ' ', x))"
   ]
  },
  {
   "cell_type": "code",
   "execution_count": 10,
   "id": "15dcf517",
   "metadata": {
    "id": "15dcf517"
   },
   "outputs": [],
   "source": [
    "# replace more than one space with single space\n",
    "tweet_df['tweet'] = tweet_df['tweet'].apply(lambda x: re.sub(r'\\s+', ' ', x))"
   ]
  },
  {
   "cell_type": "code",
   "execution_count": 11,
   "id": "26ae921b",
   "metadata": {
    "id": "26ae921b"
   },
   "outputs": [],
   "source": [
    "# remove digits\n",
    "tweet_df['tweet'] = tweet_df['tweet'].apply(lambda x: re.sub(r'\\d', '', x))"
   ]
  },
  {
   "cell_type": "code",
   "execution_count": 12,
   "id": "4a2579e9",
   "metadata": {
    "id": "4a2579e9"
   },
   "outputs": [],
   "source": [
    "# strip space at the begining of the line\n",
    "tweet_df['tweet'] = tweet_df['tweet'].apply(lambda x: x.lstrip(' '))"
   ]
  },
  {
   "cell_type": "code",
   "execution_count": 13,
   "id": "fe6f41bc",
   "metadata": {
    "id": "fe6f41bc"
   },
   "outputs": [],
   "source": [
    "# making words to lowercase\n",
    "tweet_df['tweet'] = tweet_df['tweet'].apply(lambda x: x.lower())"
   ]
  },
  {
   "cell_type": "code",
   "execution_count": 14,
   "id": "2d2da1ef",
   "metadata": {
    "id": "2d2da1ef"
   },
   "outputs": [],
   "source": [
    "# Tokenize the sentence\n",
    "tweet_df['tweet'] = tweet_df['tweet'].apply(lambda x: tokenizer(x))"
   ]
  },
  {
   "cell_type": "code",
   "execution_count": 15,
   "id": "9ab4cedb",
   "metadata": {
    "id": "9ab4cedb"
   },
   "outputs": [],
   "source": [
    "# remove stopwords\n",
    "tweet_df['tweet'] = tweet_df['tweet'].apply(lambda x: remove_stopwords(x))"
   ]
  },
  {
   "cell_type": "code",
   "execution_count": 16,
   "id": "0afaedbb",
   "metadata": {
    "colab": {
     "base_uri": "https://localhost:8080/",
     "height": 424
    },
    "id": "0afaedbb",
    "outputId": "bfec2d69-e133-4124-e91d-428fb7c9b20b",
    "scrolled": false
   },
   "outputs": [
    {
     "data": {
      "text/html": [
       "<div>\n",
       "<style scoped>\n",
       "    .dataframe tbody tr th:only-of-type {\n",
       "        vertical-align: middle;\n",
       "    }\n",
       "\n",
       "    .dataframe tbody tr th {\n",
       "        vertical-align: top;\n",
       "    }\n",
       "\n",
       "    .dataframe thead th {\n",
       "        text-align: right;\n",
       "    }\n",
       "</style>\n",
       "<table border=\"1\" class=\"dataframe\">\n",
       "  <thead>\n",
       "    <tr style=\"text-align: right;\">\n",
       "      <th></th>\n",
       "      <th>Unnamed: 0</th>\n",
       "      <th>Toxicity</th>\n",
       "      <th>tweet</th>\n",
       "    </tr>\n",
       "  </thead>\n",
       "  <tbody>\n",
       "    <tr>\n",
       "      <th>44200</th>\n",
       "      <td>44200</td>\n",
       "      <td>1</td>\n",
       "      <td>kim k alright honestly niggas d miley got unfo...</td>\n",
       "    </tr>\n",
       "    <tr>\n",
       "      <th>46339</th>\n",
       "      <td>46339</td>\n",
       "      <td>0</td>\n",
       "      <td>rt bigjonbul stars wink knowingly smile lovers...</td>\n",
       "    </tr>\n",
       "    <tr>\n",
       "      <th>49169</th>\n",
       "      <td>49169</td>\n",
       "      <td>1</td>\n",
       "      <td>rt sassymermaidxo   vsamone   zvckslvtr sister...</td>\n",
       "    </tr>\n",
       "    <tr>\n",
       "      <th>54130</th>\n",
       "      <td>54130</td>\n",
       "      <td>1</td>\n",
       "      <td>tell lookin ass niggas m crazy bitch s need know</td>\n",
       "    </tr>\n",
       "    <tr>\n",
       "      <th>18801</th>\n",
       "      <td>18801</td>\n",
       "      <td>0</td>\n",
       "      <td>days ago celebrate national iced tea day starb...</td>\n",
       "    </tr>\n",
       "    <tr>\n",
       "      <th>...</th>\n",
       "      <td>...</td>\n",
       "      <td>...</td>\n",
       "      <td>...</td>\n",
       "    </tr>\n",
       "    <tr>\n",
       "      <th>25512</th>\n",
       "      <td>25512</td>\n",
       "      <td>0</td>\n",
       "      <td>user user user user thought eloped mazeltov to...</td>\n",
       "    </tr>\n",
       "    <tr>\n",
       "      <th>55565</th>\n",
       "      <td>55565</td>\n",
       "      <td>1</td>\n",
       "      <td>based god fucked bitches</td>\n",
       "    </tr>\n",
       "    <tr>\n",
       "      <th>34658</th>\n",
       "      <td>34658</td>\n",
       "      <td>1</td>\n",
       "      <td>brutal brandy pacer s amp member loving hair d...</td>\n",
       "    </tr>\n",
       "    <tr>\n",
       "      <th>24851</th>\n",
       "      <td>24851</td>\n",
       "      <td>0</td>\n",
       "      <td>user user roseanne walking endorsement racist ...</td>\n",
       "    </tr>\n",
       "    <tr>\n",
       "      <th>30068</th>\n",
       "      <td>30068</td>\n",
       "      <td>0</td>\n",
       "      <td>macbook gorilla simulator need adapt environme...</td>\n",
       "    </tr>\n",
       "  </tbody>\n",
       "</table>\n",
       "<p>1000 rows × 3 columns</p>\n",
       "</div>"
      ],
      "text/plain": [
       "       Unnamed: 0  Toxicity                                              tweet\n",
       "44200       44200         1  kim k alright honestly niggas d miley got unfo...\n",
       "46339       46339         0  rt bigjonbul stars wink knowingly smile lovers...\n",
       "49169       49169         1  rt sassymermaidxo   vsamone   zvckslvtr sister...\n",
       "54130       54130         1   tell lookin ass niggas m crazy bitch s need know\n",
       "18801       18801         0  days ago celebrate national iced tea day starb...\n",
       "...           ...       ...                                                ...\n",
       "25512       25512         0  user user user user thought eloped mazeltov to...\n",
       "55565       55565         1                           based god fucked bitches\n",
       "34658       34658         1  brutal brandy pacer s amp member loving hair d...\n",
       "24851       24851         0  user user roseanne walking endorsement racist ...\n",
       "30068       30068         0  macbook gorilla simulator need adapt environme...\n",
       "\n",
       "[1000 rows x 3 columns]"
      ]
     },
     "execution_count": 16,
     "metadata": {},
     "output_type": "execute_result"
    }
   ],
   "source": [
    "tweet_df"
   ]
  },
  {
   "cell_type": "code",
   "execution_count": 17,
   "id": "81a54167",
   "metadata": {
    "id": "81a54167"
   },
   "outputs": [],
   "source": [
    "# Features and target variable\n",
    "X = tweet_df['tweet']\n",
    "y = tweet_df['Toxicity']"
   ]
  },
  {
   "cell_type": "code",
   "execution_count": 18,
   "id": "c5b32ded",
   "metadata": {
    "id": "c5b32ded"
   },
   "outputs": [],
   "source": [
    "# Bag of words vectorizer\n",
    "bow_vectorizer = CountVectorizer()\n",
    "X_bow = bow_vectorizer.fit_transform(X.astype(str))\n",
    "\n",
    "# TF-IDF vectorizer\n",
    "tfidf_vectorizer = TfidfVectorizer()\n",
    "X_tfidf = tfidf_vectorizer.fit_transform(X.astype(str))"
   ]
  },
  {
   "cell_type": "code",
   "execution_count": 19,
   "id": "f630e1ef",
   "metadata": {
    "id": "f630e1ef"
   },
   "outputs": [],
   "source": [
    "# Split the dataset into training and testing sets\n",
    "X_bow_train, X_bow_test, y_train, y_test = train_test_split(X_bow, y, test_size=0.2, random_state=42)\n",
    "X_tfidf_train, X_tfidf_test, y_train, y_test = train_test_split(X_tfidf, y, test_size=0.2, random_state=42)"
   ]
  },
  {
   "cell_type": "code",
   "execution_count": 23,
   "id": "b584c0dc",
   "metadata": {
    "colab": {
     "base_uri": "https://localhost:8080/",
     "height": 1000
    },
    "id": "b584c0dc",
    "outputId": "eb7e7754-0cca-4215-a312-725b48c72f60"
   },
   "outputs": [
    {
     "name": "stdout",
     "output_type": "stream",
     "text": [
      "BAG OF WORDS\n",
      "\n",
      "\n",
      "DECISION TREE\n",
      "Classification Report:\n",
      "              precision    recall  f1-score   support\n",
      "\n",
      "           0       0.88      0.91      0.89       116\n",
      "           1       0.87      0.82      0.85        84\n",
      "\n",
      "    accuracy                           0.88       200\n",
      "   macro avg       0.87      0.87      0.87       200\n",
      "weighted avg       0.87      0.88      0.87       200\n",
      "\n",
      "Confusion Matrix:\n",
      "[[106  10]\n",
      " [ 15  69]]\n",
      "\n",
      "\n",
      "RANDOM FOREST\n",
      "Classification Report:\n",
      "              precision    recall  f1-score   support\n",
      "\n",
      "           0       0.84      0.97      0.90       116\n",
      "           1       0.94      0.75      0.83        84\n",
      "\n",
      "    accuracy                           0.88       200\n",
      "   macro avg       0.89      0.86      0.87       200\n",
      "weighted avg       0.88      0.88      0.87       200\n",
      "\n",
      "Confusion Matrix:\n",
      "[[112   4]\n",
      " [ 21  63]]\n",
      "\n",
      "\n",
      "NAIVE BAYES\n",
      "Classification Report:\n",
      "              precision    recall  f1-score   support\n",
      "\n",
      "           0       0.91      0.81      0.86       116\n",
      "           1       0.77      0.89      0.83        84\n",
      "\n",
      "    accuracy                           0.84       200\n",
      "   macro avg       0.84      0.85      0.84       200\n",
      "weighted avg       0.85      0.84      0.85       200\n",
      "\n",
      "Confusion Matrix:\n",
      "[[94 22]\n",
      " [ 9 75]]\n",
      "\n",
      "\n",
      "KNN\n",
      "Classification Report:\n",
      "              precision    recall  f1-score   support\n",
      "\n",
      "           0       0.74      1.00      0.85       116\n",
      "           1       1.00      0.51      0.68        84\n",
      "\n",
      "    accuracy                           0.80       200\n",
      "   macro avg       0.87      0.76      0.76       200\n",
      "weighted avg       0.85      0.80      0.78       200\n",
      "\n",
      "Confusion Matrix:\n",
      "[[116   0]\n",
      " [ 41  43]]\n",
      "\n",
      "\n",
      "SVM\n",
      "Classification Report:\n",
      "              precision    recall  f1-score   support\n",
      "\n",
      "           0       0.83      0.97      0.90       116\n",
      "           1       0.95      0.73      0.82        84\n",
      "\n",
      "    accuracy                           0.87       200\n",
      "   macro avg       0.89      0.85      0.86       200\n",
      "weighted avg       0.88      0.87      0.87       200\n",
      "\n",
      "Confusion Matrix:\n",
      "[[113   3]\n",
      " [ 23  61]]\n",
      "\n",
      "\n"
     ]
    },
    {
     "data": {
      "image/png": "[encoded data removed]",
      "text/plain": [
       "<Figure size 640x480 with 1 Axes>"
      ]
     },
     "metadata": {},
     "output_type": "display_data"
    },
    {
     "name": "stdout",
     "output_type": "stream",
     "text": [
      "\n",
      "\n"
     ]
    }
   ],
   "source": [
    "# Bag of Words - classifications\n",
    "print('BAG OF WORDS')\n",
    "print('\\n')\n",
    "ml_models(X_bow_train, X_bow_test, y_train, y_test)"
   ]
  },
  {
   "cell_type": "code",
   "execution_count": 24,
   "id": "677441c6",
   "metadata": {
    "colab": {
     "base_uri": "https://localhost:8080/",
     "height": 1000
    },
    "id": "677441c6",
    "outputId": "fea207bc-35bf-408e-ae94-0c110af8f1cc"
   },
   "outputs": [
    {
     "name": "stdout",
     "output_type": "stream",
     "text": [
      "TF-IDF\n",
      "\n",
      "\n",
      "DECISION TREE\n",
      "Classification Report:\n",
      "              precision    recall  f1-score   support\n",
      "\n",
      "           0       0.87      0.95      0.91       116\n",
      "           1       0.92      0.81      0.86        84\n",
      "\n",
      "    accuracy                           0.89       200\n",
      "   macro avg       0.90      0.88      0.88       200\n",
      "weighted avg       0.89      0.89      0.89       200\n",
      "\n",
      "Confusion Matrix:\n",
      "[[110   6]\n",
      " [ 16  68]]\n",
      "\n",
      "\n",
      "RANDOM FOREST\n",
      "Classification Report:\n",
      "              precision    recall  f1-score   support\n",
      "\n",
      "           0       0.85      0.97      0.90       116\n",
      "           1       0.94      0.76      0.84        84\n",
      "\n",
      "    accuracy                           0.88       200\n",
      "   macro avg       0.89      0.86      0.87       200\n",
      "weighted avg       0.89      0.88      0.88       200\n",
      "\n",
      "Confusion Matrix:\n",
      "[[112   4]\n",
      " [ 20  64]]\n",
      "\n",
      "\n",
      "NAIVE BAYES\n",
      "Classification Report:\n",
      "              precision    recall  f1-score   support\n",
      "\n",
      "           0       0.89      0.88      0.88       116\n",
      "           1       0.84      0.85      0.84        84\n",
      "\n",
      "    accuracy                           0.86       200\n",
      "   macro avg       0.86      0.86      0.86       200\n",
      "weighted avg       0.87      0.86      0.87       200\n",
      "\n",
      "Confusion Matrix:\n",
      "[[102  14]\n",
      " [ 13  71]]\n",
      "\n",
      "\n",
      "KNN\n",
      "Classification Report:\n",
      "              precision    recall  f1-score   support\n",
      "\n",
      "           0       0.86      0.89      0.87       116\n",
      "           1       0.84      0.80      0.82        84\n",
      "\n",
      "    accuracy                           0.85       200\n",
      "   macro avg       0.85      0.84      0.84       200\n",
      "weighted avg       0.85      0.85      0.85       200\n",
      "\n",
      "Confusion Matrix:\n",
      "[[103  13]\n",
      " [ 17  67]]\n",
      "\n",
      "\n",
      "SVM\n",
      "Classification Report:\n",
      "              precision    recall  f1-score   support\n",
      "\n",
      "           0       0.85      0.97      0.91       116\n",
      "           1       0.96      0.76      0.85        84\n",
      "\n",
      "    accuracy                           0.89       200\n",
      "   macro avg       0.90      0.87      0.88       200\n",
      "weighted avg       0.89      0.89      0.88       200\n",
      "\n",
      "Confusion Matrix:\n",
      "[[113   3]\n",
      " [ 20  64]]\n",
      "\n",
      "\n"
     ]
    },
    {
     "data": {
      "image/png": "[encoded data removed]",
      "text/plain": [
       "<Figure size 640x480 with 1 Axes>"
      ]
     },
     "metadata": {},
     "output_type": "display_data"
    },
    {
     "name": "stdout",
     "output_type": "stream",
     "text": [
      "\n",
      "\n"
     ]
    }
   ],
   "source": [
    "# TF-IDF - classifications\n",
    "print('TF-IDF')\n",
    "print('\\n')\n",
    "ml_models(X_tfidf_train, X_tfidf_test, y_train, y_test)"
   ]
  },
  {
   "cell_type": "code",
   "execution_count": null,
   "id": "0f5d9d96",
   "metadata": {},
   "outputs": [],
   "source": []
  }
 ],
 "metadata": {
  "accelerator": "TPU",
  "colab": {
   "provenance": []
  },
  "kernelspec": {
   "display_name": "Python 3 (ipykernel)",
   "language": "python",
   "name": "python3"
  },
  "language_info": {
   "codemirror_mode": {
    "name": "ipython",
    "version": 3
   },
   "file_extension": ".py",
   "mimetype": "text/x-python",
   "name": "python",
   "nbconvert_exporter": "python",
   "pygments_lexer": "ipython3",
   "version": "3.11.2"
  }
 },
 "nbformat": 4,
 "nbformat_minor": 5
}
